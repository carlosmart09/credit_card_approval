{
 "cells": [
  {
   "cell_type": "markdown",
   "id": "47501d32",
   "metadata": {},
   "source": [
    "![Credit card being held in hand](credit_card.jpg)\n",
    "\n",
    "Commercial banks receive _a lot_ of applications for credit cards. Many of them get rejected for many reasons, like high loan balances, low income levels, or too many inquiries on an individual's credit report, for example. Manually analyzing these applications is mundane, error-prone, and time-consuming (and time is money!). Luckily, this task can be automated with the power of machine learning and pretty much every commercial bank does so nowadays. \n",
    "### The Data\n",
    "\n",
    "The data is a small subset of the Credit Card Approval dataset from the UCI Machine Learning Repository showing the credit card applications a bank receives. The last column in the dataset is the target value."
   ]
  },
  {
   "cell_type": "code",
   "execution_count": 1,
   "id": "af584301",
   "metadata": {
    "chartConfig": {
     "bar": {
      "hasRoundedCorners": true,
      "stacked": false
     },
     "groupBy": {
      "field": "13",
      "type": "string"
     },
     "type": "bar",
     "version": "v1",
     "x": {
      "field": "0",
      "type": "string"
     },
     "y": {
      "field": "7",
      "type": "number"
     }
    },
    "executionCancelledAt": null,
    "executionTime": 38,
    "lastExecutedAt": 1714777739101,
    "lastExecutedByKernel": "37077000-c560-488a-a232-50da0cfccede",
    "lastScheduledRunId": null,
    "lastSuccessfullyExecutedCode": "# Import necessary libraries\nimport pandas as pd\nimport numpy as np\nfrom sklearn.model_selection import train_test_split\nfrom sklearn.preprocessing import StandardScaler\nfrom sklearn.linear_model import LogisticRegression\nfrom sklearn.metrics import confusion_matrix\nfrom sklearn.model_selection import GridSearchCV\n\n# Load the dataset\ncc_apps = pd.read_csv(\"cc_approvals.data\", header=None, na_values= \"?\") \ncc_apps.head()\n",
    "outputsMetadata": {
     "0": {
      "columns": {
       "11": {
        "wrap": true
       },
       "13": {
        "wrap": false
       }
      },
      "height": 193,
      "type": "dataFrame"
     }
    },
    "visualizeDataframe": false
   },
   "outputs": [],
   "source": [
    "# Import necessary libraries\n",
    "import pandas as pd\n",
    "import numpy as np\n",
    "import matplotlib.pyplot as plt\n",
    "import seaborn as sns\n",
    "from sklearn.model_selection import train_test_split, cross_val_score, KFold, GridSearchCV, RandomizedSearchCV\n",
    "from sklearn.preprocessing import StandardScaler\n",
    "from sklearn.linear_model import LogisticRegression\n",
    "from sklearn.neighbors import KNeighborsClassifier\n",
    "from sklearn.tree import DecisionTreeClassifier\n",
    "from sklearn.preprocessing import LabelEncoder\n",
    "from sklearn.metrics import classification_report, plot_confusion_matrix"
   ]
  },
  {
   "cell_type": "markdown",
   "id": "f8e2da10",
   "metadata": {},
   "source": [
    "### Understanding the data"
   ]
  },
  {
   "cell_type": "code",
   "execution_count": 2,
   "id": "39f2efbd",
   "metadata": {},
   "outputs": [
    {
     "data": {
      "text/html": [
       "<div>\n",
       "<style scoped>\n",
       "    .dataframe tbody tr th:only-of-type {\n",
       "        vertical-align: middle;\n",
       "    }\n",
       "\n",
       "    .dataframe tbody tr th {\n",
       "        vertical-align: top;\n",
       "    }\n",
       "\n",
       "    .dataframe thead th {\n",
       "        text-align: right;\n",
       "    }\n",
       "</style>\n",
       "<table border=\"1\" class=\"dataframe\">\n",
       "  <thead>\n",
       "    <tr style=\"text-align: right;\">\n",
       "      <th></th>\n",
       "      <th>0</th>\n",
       "      <th>1</th>\n",
       "      <th>2</th>\n",
       "      <th>3</th>\n",
       "      <th>4</th>\n",
       "      <th>5</th>\n",
       "      <th>6</th>\n",
       "      <th>7</th>\n",
       "      <th>8</th>\n",
       "      <th>9</th>\n",
       "      <th>10</th>\n",
       "      <th>11</th>\n",
       "      <th>12</th>\n",
       "      <th>13</th>\n",
       "    </tr>\n",
       "  </thead>\n",
       "  <tbody>\n",
       "    <tr>\n",
       "      <th>0</th>\n",
       "      <td>b</td>\n",
       "      <td>30.83</td>\n",
       "      <td>0.000</td>\n",
       "      <td>u</td>\n",
       "      <td>g</td>\n",
       "      <td>w</td>\n",
       "      <td>v</td>\n",
       "      <td>1.25</td>\n",
       "      <td>t</td>\n",
       "      <td>t</td>\n",
       "      <td>1</td>\n",
       "      <td>g</td>\n",
       "      <td>0</td>\n",
       "      <td>+</td>\n",
       "    </tr>\n",
       "    <tr>\n",
       "      <th>1</th>\n",
       "      <td>a</td>\n",
       "      <td>58.67</td>\n",
       "      <td>4.460</td>\n",
       "      <td>u</td>\n",
       "      <td>g</td>\n",
       "      <td>q</td>\n",
       "      <td>h</td>\n",
       "      <td>3.04</td>\n",
       "      <td>t</td>\n",
       "      <td>t</td>\n",
       "      <td>6</td>\n",
       "      <td>g</td>\n",
       "      <td>560</td>\n",
       "      <td>+</td>\n",
       "    </tr>\n",
       "    <tr>\n",
       "      <th>2</th>\n",
       "      <td>a</td>\n",
       "      <td>24.50</td>\n",
       "      <td>0.500</td>\n",
       "      <td>u</td>\n",
       "      <td>g</td>\n",
       "      <td>q</td>\n",
       "      <td>h</td>\n",
       "      <td>1.50</td>\n",
       "      <td>t</td>\n",
       "      <td>f</td>\n",
       "      <td>0</td>\n",
       "      <td>g</td>\n",
       "      <td>824</td>\n",
       "      <td>+</td>\n",
       "    </tr>\n",
       "    <tr>\n",
       "      <th>3</th>\n",
       "      <td>b</td>\n",
       "      <td>27.83</td>\n",
       "      <td>1.540</td>\n",
       "      <td>u</td>\n",
       "      <td>g</td>\n",
       "      <td>w</td>\n",
       "      <td>v</td>\n",
       "      <td>3.75</td>\n",
       "      <td>t</td>\n",
       "      <td>t</td>\n",
       "      <td>5</td>\n",
       "      <td>g</td>\n",
       "      <td>3</td>\n",
       "      <td>+</td>\n",
       "    </tr>\n",
       "    <tr>\n",
       "      <th>4</th>\n",
       "      <td>b</td>\n",
       "      <td>20.17</td>\n",
       "      <td>5.625</td>\n",
       "      <td>u</td>\n",
       "      <td>g</td>\n",
       "      <td>w</td>\n",
       "      <td>v</td>\n",
       "      <td>1.71</td>\n",
       "      <td>t</td>\n",
       "      <td>f</td>\n",
       "      <td>0</td>\n",
       "      <td>s</td>\n",
       "      <td>0</td>\n",
       "      <td>+</td>\n",
       "    </tr>\n",
       "  </tbody>\n",
       "</table>\n",
       "</div>"
      ],
      "text/plain": [
       "  0      1      2  3  4  5  6     7  8  9   10 11   12 13\n",
       "0  b  30.83  0.000  u  g  w  v  1.25  t  t   1  g    0  +\n",
       "1  a  58.67  4.460  u  g  q  h  3.04  t  t   6  g  560  +\n",
       "2  a  24.50  0.500  u  g  q  h  1.50  t  f   0  g  824  +\n",
       "3  b  27.83  1.540  u  g  w  v  3.75  t  t   5  g    3  +\n",
       "4  b  20.17  5.625  u  g  w  v  1.71  t  f   0  s    0  +"
      ]
     },
     "execution_count": 2,
     "metadata": {},
     "output_type": "execute_result"
    }
   ],
   "source": [
    "# Load the dataset\n",
    "df = pd.read_csv(\"cc_approvals.data\", header=None, na_values= \"?\") \n",
    "df.head()"
   ]
  },
  {
   "cell_type": "code",
   "execution_count": 3,
   "id": "529386de",
   "metadata": {
    "executionCancelledAt": null,
    "executionTime": 51,
    "lastExecutedAt": 1714777739152,
    "lastExecutedByKernel": "37077000-c560-488a-a232-50da0cfccede",
    "lastScheduledRunId": null,
    "lastSuccessfullyExecutedCode": "cc_apps.info()",
    "outputsMetadata": {
     "0": {
      "height": 458,
      "type": "stream"
     }
    }
   },
   "outputs": [
    {
     "name": "stdout",
     "output_type": "stream",
     "text": [
      "<class 'pandas.core.frame.DataFrame'>\n",
      "RangeIndex: 690 entries, 0 to 689\n",
      "Data columns (total 14 columns):\n",
      " #   Column  Non-Null Count  Dtype  \n",
      "---  ------  --------------  -----  \n",
      " 0   0       678 non-null    object \n",
      " 1   1       678 non-null    float64\n",
      " 2   2       690 non-null    float64\n",
      " 3   3       684 non-null    object \n",
      " 4   4       684 non-null    object \n",
      " 5   5       681 non-null    object \n",
      " 6   6       681 non-null    object \n",
      " 7   7       690 non-null    float64\n",
      " 8   8       690 non-null    object \n",
      " 9   9       690 non-null    object \n",
      " 10  10      690 non-null    int64  \n",
      " 11  11      690 non-null    object \n",
      " 12  12      690 non-null    int64  \n",
      " 13  13      690 non-null    object \n",
      "dtypes: float64(3), int64(2), object(9)\n",
      "memory usage: 75.6+ KB\n"
     ]
    }
   ],
   "source": [
    "df.info()"
   ]
  },
  {
   "cell_type": "markdown",
   "id": "1a1257fe",
   "metadata": {},
   "source": [
    "### Exploratory Data Analysis"
   ]
  },
  {
   "cell_type": "markdown",
   "id": "f85b7023",
   "metadata": {},
   "source": [
    "We observed that column 12 exhibits extreme values. Specifically, the maximum value significantly deviates from the 3rd quartile (Q3). These extreme data points can be classified as outliers. They represent approximately **16.38 percent** of the total dataframe. Since we have encrypted variables, it will be not recommended to change these values, unless we got some idea of what they actually are."
   ]
  },
  {
   "cell_type": "code",
   "execution_count": 4,
   "id": "178540f6",
   "metadata": {
    "executionCancelledAt": null,
    "executionTime": 51,
    "lastExecutedAt": 1714777739203,
    "lastExecutedByKernel": "37077000-c560-488a-a232-50da0cfccede",
    "lastScheduledRunId": null,
    "lastSuccessfullyExecutedCode": "cc_apps.describe()",
    "outputsMetadata": {
     "0": {
      "height": 267,
      "type": "dataFrame"
     }
    }
   },
   "outputs": [
    {
     "data": {
      "text/html": [
       "<div>\n",
       "<style scoped>\n",
       "    .dataframe tbody tr th:only-of-type {\n",
       "        vertical-align: middle;\n",
       "    }\n",
       "\n",
       "    .dataframe tbody tr th {\n",
       "        vertical-align: top;\n",
       "    }\n",
       "\n",
       "    .dataframe thead th {\n",
       "        text-align: right;\n",
       "    }\n",
       "</style>\n",
       "<table border=\"1\" class=\"dataframe\">\n",
       "  <thead>\n",
       "    <tr style=\"text-align: right;\">\n",
       "      <th></th>\n",
       "      <th>1</th>\n",
       "      <th>2</th>\n",
       "      <th>7</th>\n",
       "      <th>10</th>\n",
       "      <th>12</th>\n",
       "    </tr>\n",
       "  </thead>\n",
       "  <tbody>\n",
       "    <tr>\n",
       "      <th>count</th>\n",
       "      <td>678.000000</td>\n",
       "      <td>690.000000</td>\n",
       "      <td>690.000000</td>\n",
       "      <td>690.00000</td>\n",
       "      <td>690.000000</td>\n",
       "    </tr>\n",
       "    <tr>\n",
       "      <th>mean</th>\n",
       "      <td>31.568171</td>\n",
       "      <td>4.758725</td>\n",
       "      <td>2.223406</td>\n",
       "      <td>2.40000</td>\n",
       "      <td>1017.385507</td>\n",
       "    </tr>\n",
       "    <tr>\n",
       "      <th>std</th>\n",
       "      <td>11.957862</td>\n",
       "      <td>4.978163</td>\n",
       "      <td>3.346513</td>\n",
       "      <td>4.86294</td>\n",
       "      <td>5210.102598</td>\n",
       "    </tr>\n",
       "    <tr>\n",
       "      <th>min</th>\n",
       "      <td>13.750000</td>\n",
       "      <td>0.000000</td>\n",
       "      <td>0.000000</td>\n",
       "      <td>0.00000</td>\n",
       "      <td>0.000000</td>\n",
       "    </tr>\n",
       "    <tr>\n",
       "      <th>25%</th>\n",
       "      <td>22.602500</td>\n",
       "      <td>1.000000</td>\n",
       "      <td>0.165000</td>\n",
       "      <td>0.00000</td>\n",
       "      <td>0.000000</td>\n",
       "    </tr>\n",
       "    <tr>\n",
       "      <th>50%</th>\n",
       "      <td>28.460000</td>\n",
       "      <td>2.750000</td>\n",
       "      <td>1.000000</td>\n",
       "      <td>0.00000</td>\n",
       "      <td>5.000000</td>\n",
       "    </tr>\n",
       "    <tr>\n",
       "      <th>75%</th>\n",
       "      <td>38.230000</td>\n",
       "      <td>7.207500</td>\n",
       "      <td>2.625000</td>\n",
       "      <td>3.00000</td>\n",
       "      <td>395.500000</td>\n",
       "    </tr>\n",
       "    <tr>\n",
       "      <th>max</th>\n",
       "      <td>80.250000</td>\n",
       "      <td>28.000000</td>\n",
       "      <td>28.500000</td>\n",
       "      <td>67.00000</td>\n",
       "      <td>100000.000000</td>\n",
       "    </tr>\n",
       "  </tbody>\n",
       "</table>\n",
       "</div>"
      ],
      "text/plain": [
       "               1           2           7          10             12\n",
       "count  678.000000  690.000000  690.000000  690.00000     690.000000\n",
       "mean    31.568171    4.758725    2.223406    2.40000    1017.385507\n",
       "std     11.957862    4.978163    3.346513    4.86294    5210.102598\n",
       "min     13.750000    0.000000    0.000000    0.00000       0.000000\n",
       "25%     22.602500    1.000000    0.165000    0.00000       0.000000\n",
       "50%     28.460000    2.750000    1.000000    0.00000       5.000000\n",
       "75%     38.230000    7.207500    2.625000    3.00000     395.500000\n",
       "max     80.250000   28.000000   28.500000   67.00000  100000.000000"
      ]
     },
     "execution_count": 4,
     "metadata": {},
     "output_type": "execute_result"
    }
   ],
   "source": [
    "df.describe()"
   ]
  },
  {
   "cell_type": "code",
   "execution_count": 5,
   "id": "e68cc3d0",
   "metadata": {},
   "outputs": [
    {
     "name": "stdout",
     "output_type": "stream",
     "text": [
      "Percentage of outliers in column 12 to the total dataframe: 16.38 %\n"
     ]
    }
   ],
   "source": [
    "# Looking at the percent of atypical data \n",
    "print(\"Percentage of outliers in column 12 to the total dataframe: {} %\".format(round(len(df[df[12] > 395.5 + (1.5 * (395.5 - 0))])/len(df) * 100, 2)))"
   ]
  },
  {
   "cell_type": "markdown",
   "id": "81fa146f",
   "metadata": {},
   "source": [
    "Since null values in each column account for less than 5% of the total dataframe, we are going to drop them, to improve even more our model."
   ]
  },
  {
   "cell_type": "code",
   "execution_count": 6,
   "id": "d6400847",
   "metadata": {
    "executionCancelledAt": null,
    "executionTime": 52,
    "lastExecutedAt": 1714777739412,
    "lastExecutedByKernel": "37077000-c560-488a-a232-50da0cfccede",
    "lastScheduledRunId": null,
    "lastSuccessfullyExecutedCode": "print(cc_apps.isna().sum().sort_values())",
    "outputsMetadata": {
     "0": {
      "height": 332,
      "type": "stream"
     }
    },
    "scrolled": true
   },
   "outputs": [
    {
     "name": "stdout",
     "output_type": "stream",
     "text": [
      "Column NA values\n",
      "2      0\n",
      "7      0\n",
      "8      0\n",
      "9      0\n",
      "10     0\n",
      "11     0\n",
      "12     0\n",
      "13     0\n",
      "3      6\n",
      "4      6\n",
      "5      9\n",
      "6      9\n",
      "0     12\n",
      "1     12\n",
      "dtype: int64\n"
     ]
    }
   ],
   "source": [
    "print(\"Column NA values\" )\n",
    "print(df.isna().sum().sort_values())"
   ]
  },
  {
   "cell_type": "code",
   "execution_count": 7,
   "id": "b2619aca",
   "metadata": {
    "executionCancelledAt": null,
    "executionTime": 50,
    "lastExecutedAt": 1714777739462,
    "lastExecutedByKernel": "37077000-c560-488a-a232-50da0cfccede",
    "lastScheduledRunId": null,
    "lastSuccessfullyExecutedCode": "cc_apps = cc_apps.dropna()\nprint(cc_apps.isna().sum().sort_values())",
    "outputsMetadata": {
     "0": {
      "height": 332,
      "type": "stream"
     }
    }
   },
   "outputs": [
    {
     "name": "stdout",
     "output_type": "stream",
     "text": [
      "0     0\n",
      "1     0\n",
      "2     0\n",
      "3     0\n",
      "4     0\n",
      "5     0\n",
      "6     0\n",
      "7     0\n",
      "8     0\n",
      "9     0\n",
      "10    0\n",
      "11    0\n",
      "12    0\n",
      "13    0\n",
      "dtype: int64\n"
     ]
    }
   ],
   "source": [
    "df = df.dropna()\n",
    "print(df.isna().sum().sort_values())"
   ]
  },
  {
   "cell_type": "markdown",
   "id": "b16f8a42",
   "metadata": {},
   "source": [
    "We can see now that the dataframe went from 690 rows to 659 rows. We dropped less than 5% values total."
   ]
  },
  {
   "cell_type": "code",
   "execution_count": 8,
   "id": "eb07c499",
   "metadata": {
    "executionCancelledAt": null,
    "executionTime": 51,
    "lastExecutedAt": 1714777739514,
    "lastExecutedByKernel": "37077000-c560-488a-a232-50da0cfccede",
    "lastScheduledRunId": null,
    "lastSuccessfullyExecutedCode": "cc_apps.shape"
   },
   "outputs": [
    {
     "data": {
      "text/plain": [
       "(659, 14)"
      ]
     },
     "execution_count": 8,
     "metadata": {},
     "output_type": "execute_result"
    }
   ],
   "source": [
    "df.shape"
   ]
  },
  {
   "cell_type": "markdown",
   "id": "0366ca39",
   "metadata": {},
   "source": [
    "Let's look at the corresponding values for each categorical column."
   ]
  },
  {
   "cell_type": "code",
   "execution_count": 9,
   "id": "5235b3c5",
   "metadata": {
    "executionCancelledAt": null,
    "executionTime": 54,
    "lastExecutedAt": 1714777739568,
    "lastExecutedByKernel": "37077000-c560-488a-a232-50da0cfccede",
    "lastScheduledRunId": null,
    "lastSuccessfullyExecutedCode": "object_cols = cc_apps.select_dtypes(exclude=\"number\").columns\n\nfor num in object_cols:\n    print(\"Column {}: {}\".format(num, cc_apps[num].unique()))",
    "outputsMetadata": {
     "0": {
      "height": 206,
      "type": "stream"
     }
    }
   },
   "outputs": [
    {
     "name": "stdout",
     "output_type": "stream",
     "text": [
      "Column 0: ['b' 'a']\n",
      "Column 3: ['u' 'y' 'l']\n",
      "Column 4: ['g' 'p' 'gg']\n",
      "Column 5: ['w' 'q' 'm' 'r' 'cc' 'k' 'c' 'd' 'x' 'i' 'e' 'aa' 'ff' 'j']\n",
      "Column 6: ['v' 'h' 'bb' 'ff' 'j' 'z' 'o' 'dd' 'n']\n",
      "Column 8: ['t' 'f']\n",
      "Column 9: ['t' 'f']\n",
      "Column 11: ['g' 's' 'p']\n",
      "Column 13: ['+' '-']\n"
     ]
    }
   ],
   "source": [
    "# Inspecting all values of categorical variables\n",
    "object_cols = df.select_dtypes(exclude=\"number\").columns\n",
    "\n",
    "for num in object_cols:\n",
    "    print(\"Column {}: {}\".format(num, df[num].unique()))"
   ]
  },
  {
   "cell_type": "markdown",
   "id": "71aacf21",
   "metadata": {},
   "source": [
    " Let’s formalize the process of converting the target variable to binary based on the assumption that **+** represents approval (1) and **-** represents non-approval (0). \n",
    "\n",
    "By using the code below, we convert the **+** values to 1 and the **-** values to 0."
   ]
  },
  {
   "cell_type": "code",
   "execution_count": 10,
   "id": "63160809",
   "metadata": {
    "executionCancelledAt": null,
    "executionTime": 50,
    "jupyter": {
     "outputs_hidden": true,
     "source_hidden": false
    },
    "lastExecutedAt": 1714777739618,
    "lastExecutedByKernel": "37077000-c560-488a-a232-50da0cfccede",
    "lastScheduledRunId": null,
    "lastSuccessfullyExecutedCode": "cc_apps[13] = (cc_apps[13] == \"+\").astype(int)"
   },
   "outputs": [],
   "source": [
    "# Casting target variable to numeric\n",
    "df[13] = (df[13] == \"+\").astype(int)"
   ]
  },
  {
   "cell_type": "markdown",
   "id": "7fefbf8a",
   "metadata": {},
   "source": [
    "Target values look balanced."
   ]
  },
  {
   "cell_type": "code",
   "execution_count": 11,
   "id": "c40e3c5f",
   "metadata": {
    "executionCancelledAt": null,
    "executionTime": 46,
    "lastExecutedAt": 1714777739666,
    "lastExecutedByKernel": "37077000-c560-488a-a232-50da0cfccede",
    "lastScheduledRunId": null,
    "lastSuccessfullyExecutedCode": "cc_apps[13].value_counts()",
    "outputsMetadata": {
     "0": {
      "height": 119,
      "type": "dataFrame"
     }
    }
   },
   "outputs": [
    {
     "data": {
      "text/plain": [
       "0    361\n",
       "1    298\n",
       "Name: 13, dtype: int64"
      ]
     },
     "execution_count": 11,
     "metadata": {},
     "output_type": "execute_result"
    }
   ],
   "source": [
    "df[13].value_counts()"
   ]
  },
  {
   "cell_type": "markdown",
   "id": "0a508721",
   "metadata": {},
   "source": [
    "#### Graphical exploration"
   ]
  },
  {
   "cell_type": "markdown",
   "id": "0f9b29a5",
   "metadata": {},
   "source": [
    "Although the column meanings remain encrypted for security reasons, we can still derive insights by visualizing the relationships between each variable and the target variable. Graphical exploration is a valuable technique even when specific feature interpretations are unavailable."
   ]
  },
  {
   "cell_type": "code",
   "execution_count": 12,
   "id": "8fd65b57",
   "metadata": {},
   "outputs": [
    {
     "data": {
      "text/plain": [
       "Int64Index([1, 2, 7, 10, 12, 13], dtype='int64')"
      ]
     },
     "execution_count": 12,
     "metadata": {},
     "output_type": "execute_result"
    }
   ],
   "source": [
    "df.select_dtypes(include=\"number\").columns"
   ]
  },
  {
   "cell_type": "code",
   "execution_count": 13,
   "id": "2acd3f51",
   "metadata": {},
   "outputs": [
    {
     "data": {
      "image/png": "[encoded data removed]",
      "text/plain": [
       "<Figure size 1080x504 with 6 Axes>"
      ]
     },
     "metadata": {
      "needs_background": "light"
     },
     "output_type": "display_data"
    }
   ],
   "source": [
    "# Set up the subplots\n",
    "fig, axs = plt.subplots(2, 3, figsize=(15, 7))\n",
    "\n",
    "# Create histograms\n",
    "sns.histplot(data=df, x=1, hue=13, ax=axs[0, 0], multiple=\"dodge\")\n",
    "sns.histplot(data=df, x=2, hue=13, ax=axs[0, 1], multiple=\"dodge\")\n",
    "sns.histplot(data=df, x=7, hue=13, ax=axs[0, 2], bins=8, multiple=\"dodge\")\n",
    "sns.histplot(data=df, x=10, hue=13, ax=axs[1, 0], bins=8, multiple=\"dodge\")\n",
    "sns.histplot(data=df[df[12] <  395.5 + (1.5 * (395.5 - 0))], x=12, hue=13, ax=axs[1, 1], multiple=\"dodge\", bins=10)\n",
    "sns.histplot(data=df[df[12] >=  395.5 + (1.5 * (395.5 - 0))], x=12, hue=13, ax=axs[1, 2], multiple=\"dodge\", bins=10)\n",
    "# Set titles for each subplot\n",
    "axs[0, 0].set_title(\"Column 1 vs Target\")\n",
    "axs[0, 1].set_title(\"Column 2 vs Target\")\n",
    "axs[0, 2].set_title(\"Column 7 vs Target\")\n",
    "axs[1, 0].set_title(\"Column 10 vs Target\")\n",
    "axs[1, 1].set_title(\"Column 12 (no atypical data) vs Target\")\n",
    "axs[1, 2].set_title(\"Column 12 (only atypical data) vs Target\")\n",
    "\n",
    "plt.tight_layout()\n",
    "plt.show()"
   ]
  },
  {
   "cell_type": "markdown",
   "id": "68f97cec",
   "metadata": {},
   "source": [
    "Observations:\n",
    "* Column 12 low values are mostly 0s, or \"not approved\".\n",
    "* Column 12 high values are mostly 1s, or \"approved\".\n",
    "* Low values of every variable are predominant by 0s."
   ]
  },
  {
   "cell_type": "code",
   "execution_count": 14,
   "id": "5b6360fd",
   "metadata": {},
   "outputs": [
    {
     "data": {
      "text/plain": [
       "Int64Index([0, 3, 4, 5, 6, 8, 9, 11], dtype='int64')"
      ]
     },
     "execution_count": 14,
     "metadata": {},
     "output_type": "execute_result"
    }
   ],
   "source": [
    "df.select_dtypes(exclude=\"number\").columns"
   ]
  },
  {
   "cell_type": "code",
   "execution_count": 15,
   "id": "1bd30d91",
   "metadata": {},
   "outputs": [
    {
     "data": {
      "image/png": "[encoded data removed]",
      "text/plain": [
       "<Figure size 1080x504 with 8 Axes>"
      ]
     },
     "metadata": {
      "needs_background": "light"
     },
     "output_type": "display_data"
    }
   ],
   "source": [
    "# Set up the subplots\n",
    "fig, axs = plt.subplots(2, 4, figsize=(15, 7))\n",
    "\n",
    "# Create bar graphs\n",
    "sns.countplot(data=df, x=0, hue=13, ax=axs[0,0])\n",
    "sns.countplot(data=df, x=3, hue=13, ax=axs[0,1])\n",
    "sns.countplot(data=df, x=4, hue=13, ax=axs[0,2])\n",
    "sns.countplot(data=df, x=5, hue=13, ax=axs[0,3])\n",
    "\n",
    "sns.countplot(data=df, x=6, hue=13, ax=axs[1,0])\n",
    "sns.countplot(data=df, x=8, hue=13, ax=axs[1,1])\n",
    "sns.countplot(data=df, x=9, hue=13, ax=axs[1,2])\n",
    "sns.countplot(data=df, x=11, hue=13, ax=axs[1,3])\n",
    "\n",
    "# Set titles for each subplot\n",
    "axs[0, 0].set_title(\"Column 0 vs Target\")\n",
    "axs[0, 1].set_title(\"Column 3 vs Target\")\n",
    "axs[0, 2].set_title(\"Column 4 vs Target\")\n",
    "axs[0, 3].set_title(\"Column 5 vs Target\")\n",
    "axs[1, 0].set_title(\"Column 6 vs Target\")\n",
    "axs[1, 1].set_title(\"Column 8 vs Target\")\n",
    "axs[1, 2].set_title(\"Column 9 vs Target\")\n",
    "axs[1, 3].set_title(\"Column 11 vs Target\")\n",
    "\n",
    "plt.tight_layout()\n",
    "plt.show()"
   ]
  },
  {
   "cell_type": "markdown",
   "id": "2aebbedd",
   "metadata": {},
   "source": [
    "Observations:\n",
    "* Column 8 t values are mostly 1s, and f values mostly 0s.\n",
    "* Same situation is seen in column 9."
   ]
  },
  {
   "cell_type": "markdown",
   "id": "83220b1e",
   "metadata": {},
   "source": [
    "### Preparing the data for modeling"
   ]
  },
  {
   "cell_type": "markdown",
   "id": "b891fae4",
   "metadata": {},
   "source": [
    "Now we will proceed to apply label encoder to the features, and prepare our data to fit the best model. Will also standardize our data for them to be on a similar scale."
   ]
  },
  {
   "cell_type": "code",
   "execution_count": 17,
   "id": "083e44b2",
   "metadata": {
    "executionCancelledAt": null,
    "executionTime": 50,
    "lastExecutedAt": 1714777739770,
    "lastExecutedByKernel": "37077000-c560-488a-a232-50da0cfccede",
    "lastScheduledRunId": null,
    "lastSuccessfullyExecutedCode": "le = LabelEncoder()"
   },
   "outputs": [],
   "source": [
    "le = LabelEncoder()"
   ]
  },
  {
   "cell_type": "code",
   "execution_count": 18,
   "id": "3f9676f6",
   "metadata": {
    "executionCancelledAt": null,
    "executionTime": 55,
    "lastExecutedAt": 1714777739827,
    "lastExecutedByKernel": "37077000-c560-488a-a232-50da0cfccede",
    "lastScheduledRunId": null,
    "lastSuccessfullyExecutedCode": "for col in cc_apps.select_dtypes(exclude=\"number\").columns:\n    cc_apps[col] = le.fit_transform(cc_apps[col])"
   },
   "outputs": [],
   "source": [
    "# Applying label encoder to every categorical feature\n",
    "for col in df.select_dtypes(exclude=\"number\").columns:\n",
    "    df[col] = le.fit_transform(df[col])"
   ]
  },
  {
   "cell_type": "code",
   "execution_count": 19,
   "id": "c66ed807",
   "metadata": {
    "executionCancelledAt": null,
    "executionTime": 50,
    "lastExecutedAt": 1714777739878,
    "lastExecutedByKernel": "37077000-c560-488a-a232-50da0cfccede",
    "lastScheduledRunId": null,
    "lastSuccessfullyExecutedCode": "cc_apps_x = cc_apps.drop(13, axis=1).values\ncc_apps_y = cc_apps[13].values\n\nX_train, X_test, y_train, y_test = train_test_split(cc_apps_x, cc_apps_y, test_size = 0.3, random_state = 7)"
   },
   "outputs": [],
   "source": [
    "# Splitting our data into features and target\n",
    "df_X = df.drop(13, axis=1).values # Features\n",
    "df_y = df[13].values # Target\n",
    "\n",
    "# Splitting into train sets and test sets\n",
    "X_train, X_test, y_train, y_test = train_test_split(df_X, df_y, test_size = 0.3, random_state = 42)"
   ]
  },
  {
   "cell_type": "code",
   "execution_count": 20,
   "id": "2dfd2ce5",
   "metadata": {
    "executionCancelledAt": null,
    "executionTime": 52,
    "lastExecutedAt": 1714777739930,
    "lastExecutedByKernel": "37077000-c560-488a-a232-50da0cfccede",
    "lastScheduledRunId": null,
    "lastSuccessfullyExecutedCode": "scaler = StandardScaler()\nX_train_scaled = scaler.fit_transform(X_train)\nX_test_scaled = scaler.transform(X_test)"
   },
   "outputs": [],
   "source": [
    "scaler = StandardScaler()\n",
    "\n",
    "# Scaling our features\n",
    "X_train_scaled = scaler.fit_transform(X_train)\n",
    "X_test_scaled = scaler.transform(X_test)"
   ]
  },
  {
   "cell_type": "markdown",
   "id": "f66a75b6",
   "metadata": {},
   "source": [
    "### Choosing the right model"
   ]
  },
  {
   "cell_type": "markdown",
   "id": "c440e5be",
   "metadata": {
    "executionCancelledAt": null,
    "executionTime": 9,
    "lastExecutedAt": 1714748871133,
    "lastExecutedByKernel": "af818285-2b8a-4cec-bf28-fb57a430fe8f",
    "lastScheduledRunId": null,
    "lastSuccessfullyExecutedCode": ""
   },
   "source": [
    "Now we are going to assess different models and select the best choice for use. In order to do this, we need loop through each model and check their respective accuracy scores."
   ]
  },
  {
   "cell_type": "markdown",
   "id": "10041787",
   "metadata": {},
   "source": [
    "By looking at the plots we can see that the one with the best  cross validation accuracy score is the logistic regression, with around 86% median accuracy score. "
   ]
  },
  {
   "cell_type": "code",
   "execution_count": 21,
   "id": "e30069f2",
   "metadata": {},
   "outputs": [
    {
     "data": {
      "image/png": "[encoded data removed]",
      "text/plain": [
       "<Figure size 432x288 with 1 Axes>"
      ]
     },
     "metadata": {
      "needs_background": "light"
     },
     "output_type": "display_data"
    }
   ],
   "source": [
    "# Defining our models in a dictionary\n",
    "models = {\n",
    "    \"KNN\": KNeighborsClassifier(),\n",
    "    \"Logistic Regression\": LogisticRegression(),\n",
    "    \"Decision Tree\": DecisionTreeClassifier()\n",
    "}\n",
    "\n",
    "result = []\n",
    "labels = list(models.keys())\n",
    "\n",
    "# Cross validation on every model defined to check for the best one\n",
    "for model in models.values():\n",
    "    kf = KFold(n_splits=6, shuffle=True, random_state=23)\n",
    "    cv_results = cross_val_score(model, X_train_scaled, y_train, cv=kf)\n",
    "    result.append(cv_results)\n",
    "\n",
    "# Plotting the results\n",
    "plt.boxplot(result, labels=labels)\n",
    "plt.show()"
   ]
  },
  {
   "cell_type": "markdown",
   "id": "3032130c",
   "metadata": {},
   "source": [
    "Below we can observe the accuracy test score for each model. KNN and Logistic Regression are very similar, but we will use **KNN** for this project, since it has slightly better score. "
   ]
  },
  {
   "cell_type": "code",
   "execution_count": 22,
   "id": "9caddee6",
   "metadata": {},
   "outputs": [
    {
     "name": "stdout",
     "output_type": "stream",
     "text": [
      "KNN Accuracy Test Score: 0.864\n",
      "Logistic Regression Accuracy Test Score: 0.848\n",
      "Decision Tree Accuracy Test Score: 0.793\n"
     ]
    }
   ],
   "source": [
    "# Best test score for each model\n",
    "for name, model in models.items():\n",
    "    model.fit(X_train_scaled, y_train)\n",
    "    model_score = model.score(X_test_scaled, y_test)\n",
    "    print(\"{} Accuracy Test Score: {}\".format(name, round(model_score,3)))"
   ]
  },
  {
   "cell_type": "markdown",
   "id": "41b4df1d",
   "metadata": {},
   "source": [
    "### Making predictions"
   ]
  },
  {
   "cell_type": "markdown",
   "id": "8b91e059",
   "metadata": {},
   "source": [
    "We got 86% accuracy for the model. The confusion matrix below shows similar proportion of False Positives and False Negatives."
   ]
  },
  {
   "cell_type": "code",
   "execution_count": 23,
   "id": "978de97e",
   "metadata": {
    "executionCancelledAt": null,
    "executionTime": 58,
    "lastExecutedAt": 1714777740036,
    "lastExecutedByKernel": "37077000-c560-488a-a232-50da0cfccede",
    "lastScheduledRunId": null,
    "lastSuccessfullyExecutedCode": "logreg.fit(X_train_scaled, y_train)\n\ny_pred = logreg.predict(X_test_scaled)\n\ny_pred_prob = logreg.predict_proba(X_test_scaled)[:,1]\n\nprint(\"Accuracy of the classification model: {}\".format(logreg.score(X_test_scaled, y_test)))\nprint(\"Mean probability of approving a credit card:{}\".format(y_pred_prob.mean()))\nprint(confusion_matrix(y_test, y_pred))",
    "outputsMetadata": {
     "0": {
      "height": 101,
      "type": "stream"
     }
    }
   },
   "outputs": [
    {
     "name": "stdout",
     "output_type": "stream",
     "text": [
      "Accuracy of the classification model: 0.8636363636363636\n"
     ]
    },
    {
     "data": {
      "image/png": "[encoded data removed]",
      "text/plain": [
       "<Figure size 432x288 with 2 Axes>"
      ]
     },
     "metadata": {
      "needs_background": "light"
     },
     "output_type": "display_data"
    }
   ],
   "source": [
    "# Making predictions with our best model\n",
    "y_pred = models[\"KNN\"].predict(X_test_scaled)\n",
    "\n",
    "print(\"Accuracy of the classification model: {}\".format(models[\"KNN\"].score(X_test_scaled, y_test)))\n",
    "\n",
    "# Confusion Matrix plot\n",
    "plot_confusion_matrix(models[\"KNN\"], X_test_scaled, y_test)\n",
    "plt.title(\"Confusion Matrix KNN Model\")\n",
    "plt.show()"
   ]
  },
  {
   "cell_type": "markdown",
   "id": "4d06c28a",
   "metadata": {},
   "source": [
    "We can observe in the classification report the total accuracy, as mentioned before, and the other metrics of interest. "
   ]
  },
  {
   "cell_type": "code",
   "execution_count": 24,
   "id": "88e8d4af",
   "metadata": {
    "executionCancelledAt": null,
    "executionTime": 52,
    "lastExecutedAt": 1714777740139,
    "lastExecutedByKernel": "37077000-c560-488a-a232-50da0cfccede",
    "lastScheduledRunId": null,
    "lastSuccessfullyExecutedCode": "print(classification_report(y_test, y_pred))",
    "outputsMetadata": {
     "0": {
      "height": 206,
      "type": "stream"
     }
    }
   },
   "outputs": [
    {
     "name": "stdout",
     "output_type": "stream",
     "text": [
      "              precision    recall  f1-score   support\n",
      "\n",
      "           0       0.88      0.88      0.88       112\n",
      "           1       0.85      0.84      0.84        86\n",
      "\n",
      "    accuracy                           0.86       198\n",
      "   macro avg       0.86      0.86      0.86       198\n",
      "weighted avg       0.86      0.86      0.86       198\n",
      "\n"
     ]
    }
   ],
   "source": [
    "print(classification_report(y_test, y_pred))"
   ]
  },
  {
   "cell_type": "markdown",
   "id": "445923b0",
   "metadata": {},
   "source": [
    "### Improving the model hyperparameter"
   ]
  },
  {
   "cell_type": "markdown",
   "id": "4422197b",
   "metadata": {
    "executionCancelledAt": null,
    "executionTime": 15,
    "lastExecutedAt": 1714751128840,
    "lastExecutedByKernel": "af818285-2b8a-4cec-bf28-fb57a430fe8f",
    "lastScheduledRunId": null,
    "lastSuccessfullyExecutedCode": "y_pred_prob"
   },
   "source": [
    "Now, lastly, we are going to find the optimal number of neighbors for the KNN to see the best accuracy according to it. In order to do this we are going to use GridSearchCV module from sklearn."
   ]
  },
  {
   "cell_type": "code",
   "execution_count": 27,
   "id": "2a1538d1",
   "metadata": {
    "executionCancelledAt": null,
    "executionTime": 44004,
    "lastExecutedAt": 1714777784200,
    "lastExecutedByKernel": "37077000-c560-488a-a232-50da0cfccede",
    "lastScheduledRunId": null,
    "lastSuccessfullyExecutedCode": "kf = KFold(n_splits=4, shuffle=True, random_state=5)\nparameters = {\n    \"C\": np.linspace(0.1, 1, 50),\n    \"penalty\": [\"l1\", \"l2\", \"elasticnet\", \"None\"],\n    \"tol\": np.linspace(0.0001, 1.0, 50)\n}\n\nlogreg_cv = GridSearchCV(logreg, param_grid=parameters, cv= kf)\n\nlogreg_cv.fit(X_scaled, cc_apps_y)\nbest_score = logreg_cv.best_score_\n\nprint(\"Tuned Logistic Regression Parameters: {}\".format(logreg_cv.best_params_))\nprint(\"Tuned Logistic Regression Best Accuracy Score: {}\".format(best_score))",
    "outputsMetadata": {
     "0": {
      "height": 59,
      "type": "stream"
     }
    }
   },
   "outputs": [
    {
     "name": "stdout",
     "output_type": "stream",
     "text": [
      "Tuned KNN Parameter: {'n_neighbors': 11}\n",
      "Tuned KNN Best Accuracy Score: 0.8697522206638617\n"
     ]
    }
   ],
   "source": [
    "kf = KFold(n_splits=5, shuffle=True, random_state=10)\n",
    "parameters = {\n",
    "    \"n_neighbors\": np.arange(1,50)\n",
    "}\n",
    "\n",
    "# GridSearch to tune the number of neighbors\n",
    "knn_cv = GridSearchCV(models[\"KNN\"], parameters, cv= kf)\n",
    "\n",
    "knn_cv.fit(X_train_scaled, y_train) \n",
    "\n",
    "print(\"Tuned KNN Parameter: {}\".format(knn_cv.best_params_))\n",
    "print(\"Tuned KNN Best Accuracy Score: {}\".format(knn_cv.best_score_))"
   ]
  },
  {
   "cell_type": "markdown",
   "id": "10c65898",
   "metadata": {},
   "source": [
    "Tuning the number of neighbors helped us improve the overall accuracy of the model from **86%** to **87%** with **11 neighbors**."
   ]
  },
  {
   "cell_type": "markdown",
   "id": "5e539906",
   "metadata": {},
   "source": [
    "### Conclusions"
   ]
  },
  {
   "cell_type": "markdown",
   "id": "8296de50",
   "metadata": {},
   "source": [
    "* Among the models evaluated on this dataset, the **K-Nearest Neighbors (KNN)** algorithm achieved the highest accuracy, with a performance of **86%**. In comparison, the Logistic Regression model achieved an accuracy of **85%**, while the Decision Trees model lagged behind at **82%**.\n",
    "* After fine-tuning the hyperparameter of the K-Nearest Neighbors (KNN) algorithm, we observed an improvement in accuracy by **1%**.\n"
   ]
  },
  {
   "cell_type": "code",
   "execution_count": null,
   "id": "26aeacd9",
   "metadata": {},
   "outputs": [],
   "source": []
  }
 ],
 "metadata": {
  "colab": {
   "name": "Welcome to DataCamp Workspaces.ipynb",
   "provenance": []
  },
  "editor": "DataCamp Workspace",
  "kernelspec": {
   "display_name": "Python 3 (ipykernel)",
   "language": "python",
   "name": "python3"
  },
  "language_info": {
   "codemirror_mode": {
    "name": "ipython",
    "version": 3
   },
   "file_extension": ".py",
   "mimetype": "text/x-python",
   "name": "python",
   "nbconvert_exporter": "python",
   "pygments_lexer": "ipython3",
   "version": "3.7.7"
  }
 },
 "nbformat": 4,
 "nbformat_minor": 5
}
